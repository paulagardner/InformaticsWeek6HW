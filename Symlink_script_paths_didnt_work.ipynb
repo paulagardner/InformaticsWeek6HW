{
 "cells": [
  {
   "cell_type": "markdown",
   "id": "weighted-scheduling",
   "metadata": {},
   "source": [
    "### to put in readme: \n",
    "# Dr. Long's solutions: hosted in data/class/ecoevo283/public as python scripts\n",
    "General steps to take: have to copy the data as he stated in the .txt- you must make DNAseq, RNAseq, \n",
    "and ATACseq directories, and put empty rawdata directories within them.\n",
    "\n",
    "\n",
    "### This differs from the symlink_script file because I modified the paths for use in my home directory;\n",
    "which was ~/EE283_files, where I had a symlink to pdgardne created there.\n",
    "I actually think those paths might work; the key issue was where, exactly, to have the scripts so they would run. Refer to the for() loop for the DNAseq solution to see.\n",
    "\n",
    "## DNAseq solution below:               "
   ]
  },
  {
   "cell_type": "markdown",
   "id": "stopped-norwegian",
   "metadata": {},
   "source": [
    "So this is following more closely the procedure we went over in class; where you manually made ATACseq,DNAseq, RNAseq, and made 'rawdata' directories "
   ]
  },
  {
   "cell_type": "code",
   "execution_count": 2,
   "id": "functioning-excerpt",
   "metadata": {
    "scrolled": true
   },
   "outputs": [
    {
     "ename": "FileNotFoundError",
     "evalue": "[Errno 2] No such file or directory: '/data/class/ecoevo283/public/RAWDATA/DNAseq/ADL09_1_2.fq.gz' -> 'DNAseq/rawdata/ADL09_1_2.fq.gz'",
     "output_type": "error",
     "traceback": [
      "\u001b[0;31m---------------------------------------------------------------------------\u001b[0m",
      "\u001b[0;31mFileNotFoundError\u001b[0m                         Traceback (most recent call last)",
      "\u001b[0;32m<ipython-input-2-c3824f55b4a9>\u001b[0m in \u001b[0;36m<module>\u001b[0;34m\u001b[0m\n\u001b[1;32m     14\u001b[0m \u001b[0;32mfor\u001b[0m \u001b[0mf\u001b[0m \u001b[0;32min\u001b[0m \u001b[0mfiles\u001b[0m\u001b[0;34m:\u001b[0m\u001b[0;34m\u001b[0m\u001b[0;34m\u001b[0m\u001b[0m\n\u001b[1;32m     15\u001b[0m         \u001b[0;32mif\u001b[0m \u001b[0mf\u001b[0m\u001b[0;34m.\u001b[0m\u001b[0mendswith\u001b[0m\u001b[0;34m(\u001b[0m\u001b[0;34m'.fq.gz'\u001b[0m\u001b[0;34m)\u001b[0m\u001b[0;34m:\u001b[0m\u001b[0;34m\u001b[0m\u001b[0;34m\u001b[0m\u001b[0m\n\u001b[0;32m---> 16\u001b[0;31m                 \u001b[0mos\u001b[0m\u001b[0;34m.\u001b[0m\u001b[0msymlink\u001b[0m\u001b[0;34m(\u001b[0m\u001b[0;34m\"/data/class/ecoevo283/public/RAWDATA/DNAseq/\"\u001b[0m\u001b[0;34m+\u001b[0m\u001b[0mf\u001b[0m\u001b[0;34m,\u001b[0m \u001b[0;34m\"DNAseq/rawdata/\"\u001b[0m\u001b[0;34m+\u001b[0m\u001b[0mf\u001b[0m\u001b[0;34m)\u001b[0m\u001b[0;34m\u001b[0m\u001b[0;34m\u001b[0m\u001b[0m\n\u001b[0m",
      "\u001b[0;31mFileNotFoundError\u001b[0m: [Errno 2] No such file or directory: '/data/class/ecoevo283/public/RAWDATA/DNAseq/ADL09_1_2.fq.gz' -> 'DNAseq/rawdata/ADL09_1_2.fq.gz'"
     ]
    }
   ],
   "source": [
    "#both the paths of input and output are the same-- so I would expect this to be a \n",
    "#renaming, and not symlinking to another directory?\n",
    "\n",
    "\n",
    "#scratch the above- this has nothing to do with that, actually. This script makes, in *whichever* directory you are currently\n",
    "#in, simlinks to the DNA data there.\n",
    "\n",
    "#Must run this in the directory above your empty DNAseq directory, (in my case, pdgardne, symlinked to a folder in my hpc3 base) \n",
    "#which should contain an empty rawdata directory- mirroring the structure of the data on the \n",
    "#public directory\n",
    "\n",
    "\n",
    "import os\n",
    "files=os.listdir(\"/data/class/ecoevo283/public/RAWDATA/DNAseq\")\n",
    "for f in files:\n",
    "        if f.endswith('.fq.gz'):\n",
    "                os.symlink(\"/data/class/ecoevo283/public/RAWDATA/DNAseq/\"+f, \"DNAseq/rawdata/\"+f) "
   ]
  },
  {
   "cell_type": "markdown",
   "id": "infectious-input",
   "metadata": {},
   "source": [
    "## RNAseq solution: "
   ]
  },
  {
   "cell_type": "code",
   "execution_count": null,
   "id": "respiratory-recovery",
   "metadata": {},
   "outputs": [],
   "source": [
    "#do some stuff from the command line first\n",
    "#get a list of all the fastq files in the entire path\n",
    "#taken from Dr. Long's files\n",
    "\n",
    "# I originally had paths changed below to fit my own directory, which has symlinks to the class one\n",
    "# You could probably do it that way, but I misunderstood- I had the shell code and python script with\n",
    "# paths to my own, empty directories, when you need to have these scripts and run them ABOVE the \n",
    "# directory where things are happening, pulling the information from wherever the data is STORED,\n",
    "# not where you want things to go. \n",
    "\n",
    "\n",
    "find /data/class/ecoevo283/public/RAWDATA/RNAseq/RNAseq384plex_flowcell01/ -name \"*.fastq.gz\" >fastqs.txt\n",
    "\n",
    "#create a table that will allow for sample name lookups..\n",
    "\n",
    "# (again, must do in command line) \n",
    "cat /data/class/ecoevo283/public/RAWDATA/RNAseq/RNAseq384_SampleCoding.txt | cut -f1,12 | tail -n +2 >dict.txt\n",
    "#this throws an error on one file but seems to work otherwise\n",
    "\n",
    "# rename.RNAseq.py SHOULD BE the script that contains your python code. \n",
    "python rename.RNAseq.py <fastqs.txt #this executes your renaming symlink script by reading in the indices of fastqs.txt\n"
   ]
  },
  {
   "cell_type": "code",
   "execution_count": null,
   "id": "herbal-polyester",
   "metadata": {},
   "outputs": [],
   "source": [
    "#taken from Dr. Long's files\n",
    "\n",
    "#RUN THIS IN the directory above the RNAseq directory. Not sure why it doesn't work\n",
    "#one level down.\n",
    "\n",
    "#contents of rename.RNAseq.py.\n",
    "#create a table that will allow for sample name lookups..\n",
    "\n",
    "\n",
    "\n",
    "import os\n",
    "import re\n",
    "import sys\n",
    "\n",
    "###read in tab delimited sample# \\t samplename \n",
    "#make a dictionary, read in the file \"dict.txt\" and for each line in the file, split the line and call the first item, the key, to create the dictionary 'value', so that if you type d it will tell you the value\n",
    "\n",
    "d = {}\n",
    "with open(\"dict.txt\") as FILEIN:\n",
    "        for line in FILEIN:\n",
    "                (key, val) = line.split()\n",
    "                d[int(key)] = val\n",
    "\n",
    "###make symlinks\n",
    "for f in sys.stdin: #f will take on the first value for the path for each sample\n",
    "        f = f.strip('\\n') #strip the line return we don't want\n",
    "        if f.endswith('.fastq.gz') and \"Undetermined\" not in f:\n",
    "                num=re.search(\"[0-9]+_\",f).group(0).replace(\"_\",\"\")\n",
    "                dir=re.search(\"_R[0-9]_\",f).group(0).replace(\"_R1_\",\"F\").replace(\"_R2_\",\"R\")\n",
    "                out=\"RNAseq/rawdata/\"+ d[int(num)] + \"_\" + dir +\".fq.gz\" #this looks up the value of the value from the table\n",
    "                print(f,num,dir,out) #print everything out to the screen to debug \n",
    "                os.symlink(f, out)"
   ]
  },
  {
   "cell_type": "markdown",
   "id": "expanded-shaft",
   "metadata": {},
   "source": [
    " ## ATACseq solution:"
   ]
  },
  {
   "cell_type": "code",
   "execution_count": 3,
   "id": "disciplinary-brown",
   "metadata": {},
   "outputs": [
    {
     "ename": "FileNotFoundError",
     "evalue": "[Errno 2] No such file or directory: '/data/class/ecoevo283/public/RAWDATA/ATACseq/Sample_ACCAGCA-TATGCAGT_4R009_L1_P059_R2.fq.gz' -> 'ATACseq/rawdata/P059_R.fq.gz'",
     "output_type": "error",
     "traceback": [
      "\u001b[0;31m---------------------------------------------------------------------------\u001b[0m",
      "\u001b[0;31mFileNotFoundError\u001b[0m                         Traceback (most recent call last)",
      "\u001b[0;32m<ipython-input-3-ea51e171a5e3>\u001b[0m in \u001b[0;36m<module>\u001b[0;34m\u001b[0m\n\u001b[1;32m      9\u001b[0m         \u001b[0;32mif\u001b[0m \u001b[0mf\u001b[0m\u001b[0;34m.\u001b[0m\u001b[0mendswith\u001b[0m\u001b[0;34m(\u001b[0m\u001b[0;34m'.fq.gz'\u001b[0m\u001b[0;34m)\u001b[0m\u001b[0;34m:\u001b[0m\u001b[0;34m\u001b[0m\u001b[0;34m\u001b[0m\u001b[0m\n\u001b[1;32m     10\u001b[0m                 \u001b[0mf2\u001b[0m\u001b[0;34m=\u001b[0m\u001b[0mre\u001b[0m\u001b[0;34m.\u001b[0m\u001b[0msearch\u001b[0m\u001b[0;34m(\u001b[0m\u001b[0;34m\"P[0-9]+_R[0-9]\"\u001b[0m\u001b[0;34m,\u001b[0m\u001b[0mf\u001b[0m\u001b[0;34m)\u001b[0m\u001b[0;34m.\u001b[0m\u001b[0mgroup\u001b[0m\u001b[0;34m(\u001b[0m\u001b[0;36m0\u001b[0m\u001b[0;34m)\u001b[0m\u001b[0;34m.\u001b[0m\u001b[0mreplace\u001b[0m\u001b[0;34m(\u001b[0m\u001b[0;34m\"R\"\u001b[0m\u001b[0;34m,\u001b[0m\u001b[0;34m\"\"\u001b[0m\u001b[0;34m)\u001b[0m\u001b[0;34m.\u001b[0m\u001b[0mreplace\u001b[0m\u001b[0;34m(\u001b[0m\u001b[0;34m\"_1\"\u001b[0m\u001b[0;34m,\u001b[0m\u001b[0;34m\"_F\"\u001b[0m\u001b[0;34m)\u001b[0m\u001b[0;34m.\u001b[0m\u001b[0mreplace\u001b[0m\u001b[0;34m(\u001b[0m\u001b[0;34m\"_2\"\u001b[0m\u001b[0;34m,\u001b[0m\u001b[0;34m\"_R\"\u001b[0m\u001b[0;34m)\u001b[0m\u001b[0;34m\u001b[0m\u001b[0;34m\u001b[0m\u001b[0m\n\u001b[0;32m---> 11\u001b[0;31m                 \u001b[0mos\u001b[0m\u001b[0;34m.\u001b[0m\u001b[0msymlink\u001b[0m\u001b[0;34m(\u001b[0m\u001b[0;34m\"/data/class/ecoevo283/public/RAWDATA/ATACseq/\"\u001b[0m\u001b[0;34m+\u001b[0m\u001b[0mf\u001b[0m\u001b[0;34m,\u001b[0m \u001b[0;34m\"ATACseq/rawdata/\"\u001b[0m \u001b[0;34m+\u001b[0m \u001b[0mf2\u001b[0m \u001b[0;34m+\u001b[0m \u001b[0;34m\".fq.gz\"\u001b[0m\u001b[0;34m)\u001b[0m\u001b[0;34m\u001b[0m\u001b[0;34m\u001b[0m\u001b[0m\n\u001b[0m",
      "\u001b[0;31mFileNotFoundError\u001b[0m: [Errno 2] No such file or directory: '/data/class/ecoevo283/public/RAWDATA/ATACseq/Sample_ACCAGCA-TATGCAGT_4R009_L1_P059_R2.fq.gz' -> 'ATACseq/rawdata/P059_R.fq.gz'"
     ]
    }
   ],
   "source": [
    "####### example sample: Sample_ACCAGCA-TATGCAGT_4R009_L1_P059_R2.fq.gz\n",
    "#again, taken from Dr. Long's files\n",
    "\n",
    "#again, run in the directory above the ATACseq/rawdata directories you must have\n",
    "import os\n",
    "import re\n",
    "files=os.listdir(\"/data/class/ecoevo283/public/RAWDATA/ATACseq\")\n",
    "for f in files:\n",
    "        if f.endswith('.fq.gz'):\n",
    "                f2=re.search(\"P[0-9]+_R[0-9]\",f).group(0).replace(\"R\",\"\").replace(\"_1\",\"_F\").replace(\"_2\",\"_R\")\n",
    "                os.symlink(\"/data/class/ecoevo283/public/RAWDATA/ATACseq/\"+f, \"ATACseq/rawdata/\" + f2 + \".fq.gz\")"
   ]
  },
  {
   "cell_type": "markdown",
   "id": "occasional-fighter",
   "metadata": {},
   "source": [
    "### my attempts below that don't work:"
   ]
  },
  {
   "cell_type": "code",
   "execution_count": null,
   "id": "adopted-architect",
   "metadata": {},
   "outputs": [],
   "source": [
    "# DNAseq README:  \"ADLxx_yy_zz.fq.gz -> xx = DNA source, yy = replicate lane, zz = F or R read\"\n",
    "# Goal: maybe symlink each file to a new directory? Rename? \n",
    "#I'm realizing the the .txt we got for this class might be saying 'DNAseq should be fine' as in, \n",
    "#it doesn't need any alterations\n",
    "\n"
   ]
  },
  {
   "cell_type": "code",
   "execution_count": null,
   "id": "governmental-board",
   "metadata": {},
   "outputs": [],
   "source": [
    "#RNAseq is where the work seems to need to happen\n",
    "#in class we mentioned using dictionaries, regular expressions\n",
    "\n",
    "\n",
    "\n",
    "\"\"\"\n",
    "RNAseq README  contents:\n",
    "\n",
    "FILE = RNAseq384_SampleCoding.xlsx\n",
    "\n",
    "Column names/meanings:\n",
    "\n",
    "SampleNumber = 1-376 numeric code.\n",
    "\n",
    "Multiplex_i5index = 48-plex for each sample (plex1-plex8) and the i5 index that was associated with each plex. (Note however that the i5 index was only used for the preliminary 384-plex, dual-index run, so is irrelevant here.)\n",
    "\n",
    "Lane = Lane each plex was run in (L001-L008). Note that plex1 was always run in lane L001, and so on.\n",
    "\n",
    "i7index = i7 index associated with each sample within a plex (i7 indices are re-used across plexes).\n",
    "\n",
    "PlateName = There are 4 plates (BodyPlate, EmbyroPlate, HeadPlate, and PupaPlate). Note that the tissue in the plate name refers to the majority tissue on the plate; NOT all samples on a plate are from the same tissue (see \"TissueCode\" column).\n",
    "\n",
    "PlateRow =\n",
    "PlateColumn =\n",
    "PlateWell = Sample positions in each 96-well plate.\n",
    "\n",
    "RILcode = Standard 5-digit RIL code.\n",
    "\n",
    "\"\"\"\n",
    "#data structure: RNAseq384plex_flowcell1101 contains different project directories, \n",
    "#and within each project dir there are sample directories, which contain (what I think are?) \n",
    "#forward and reverse reads of each sample in gzipped fastq format. so we'd have to go 3 steps \n",
    "#down in directories to actually be able to access the files\n",
    "\n",
    "#the flowcell1011 directories all lead to samples, even the Undetermined_indices one\n",
    "\n",
    "#.txt mentions shutil.copy or os.symlink()\n",
    "\n",
    "#os.symlink(source,destination) #https://www.tutorialspoint.com/python3/os_symlink.htm\n",
    "    #OR \n",
    "    #from shutil import copyfile\n",
    "    #copyfile(source,destination)\n",
    "\n",
    "\n",
    "\"\"\"\n",
    "from shutil import copyfile\n",
    "\n",
    "for directory in RNAseq384plex_flowcell101/*:\n",
    "    copyfile(RNAseq384plex_flowcell101/Project*/Sample*, <directory we copy to>)\"\"\" # not sure how to specify all directories in a directory... maybe this? https://unix.stackexchange.com/questions/86722/how-do-i-loop-through-only-directories-in-bash\n",
    "    for /Project*\n",
    "        for /Sample*\n",
    "        copyfile(*.fastq.gz, <directory we copy to>) #this would just dump all the samples together..\n",
    "\"\"\"      "
   ]
  },
  {
   "cell_type": "code",
   "execution_count": 1,
   "id": "actual-laundry",
   "metadata": {},
   "outputs": [
    {
     "ename": "SyntaxError",
     "evalue": "invalid syntax (<ipython-input-1-a2d080c11b27>, line 3)",
     "output_type": "error",
     "traceback": [
      "\u001b[0;36m  File \u001b[0;32m\"<ipython-input-1-a2d080c11b27>\"\u001b[0;36m, line \u001b[0;32m3\u001b[0m\n\u001b[0;31m    bash script:\u001b[0m\n\u001b[0m         ^\u001b[0m\n\u001b[0;31mSyntaxError\u001b[0m\u001b[0;31m:\u001b[0m invalid syntax\n"
     ]
    }
   ],
   "source": [
    "\n",
    "\n",
    "#As stated in the .txt file for fastqc number for a ATACseq file \n",
    "\n",
    "bash script:\n",
    "\"\"\"\n",
    "module avail fastqc\n",
    "module load fastqc/0.11.9\n",
    "fastqc --help\n",
    "\"\"\"\n",
    "\n",
    "#we want to make a copy of the files so we can gunzip them and then \n",
    "#we would want to then do:\n",
    "from shutil import copyfile\n",
    "for file in ~/EE283_files/pdgardne/rawdata/ATACseq/*.fq.gz: \n",
    "    gunzip *.fq.gz\n",
    "    fastqc -f fastq ${file} #https://wiki.bits.vib.be/index.php/Linux_command_line"
   ]
  },
  {
   "cell_type": "markdown",
   "id": "mexican-james",
   "metadata": {},
   "source": [
    "Dr. Long says solutions should be in public repository. He suggests running python scripts from the command line without using the interactive python \n",
    "\n"
   ]
  }
 ],
 "metadata": {
  "kernelspec": {
   "display_name": "Python 3",
   "language": "python",
   "name": "python3"
  },
  "language_info": {
   "codemirror_mode": {
    "name": "ipython",
    "version": 3
   },
   "file_extension": ".py",
   "mimetype": "text/x-python",
   "name": "python",
   "nbconvert_exporter": "python",
   "pygments_lexer": "ipython3",
   "version": "3.8.3"
  }
 },
 "nbformat": 4,
 "nbformat_minor": 5
}
